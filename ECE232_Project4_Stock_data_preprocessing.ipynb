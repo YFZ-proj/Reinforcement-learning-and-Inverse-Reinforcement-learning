{
  "nbformat": 4,
  "nbformat_minor": 0,
  "metadata": {
    "colab": {
      "name": "ECE232_Project 4_Stock data preprocessing.ipynb",
      "provenance": [],
      "collapsed_sections": []
    },
    "kernelspec": {
      "name": "python3",
      "display_name": "Python 3"
    },
    "accelerator": "GPU"
  },
  "cells": [
    {
      "cell_type": "code",
      "metadata": {
        "id": "lbhMzqP6Safz",
        "colab_type": "code",
        "colab": {}
      },
      "source": [
        "import os\n",
        "import pandas as pd\n",
        "import numpy as np\n",
        "import math\n",
        "import matplotlib.pyplot as plt\n",
        "import networkx as nx"
      ],
      "execution_count": 0,
      "outputs": []
    },
    {
      "cell_type": "markdown",
      "metadata": {
        "id": "KPXRkt1C7Su3",
        "colab_type": "text"
      },
      "source": [
        "All data"
      ]
    },
    {
      "cell_type": "code",
      "metadata": {
        "id": "_MKf7ypSTeRc",
        "colab_type": "code",
        "colab": {}
      },
      "source": [
        "# Load data\n",
        "Name_sector = pd.read_csv('finance_data/Name_sector.csv')\n",
        "Name_sector['Symbol']"
      ],
      "execution_count": 0,
      "outputs": []
    },
    {
      "cell_type": "code",
      "metadata": {
        "id": "3geI8FSIUCX4",
        "colab_type": "code",
        "outputId": "1d4e5749-e991-448d-d256-a6048e252d74",
        "colab": {
          "base_uri": "https://localhost:8080/",
          "height": 33
        }
      },
      "source": [
        "stocks = os.listdir('finance_data/data/')\n",
        "len(stocks)"
      ],
      "execution_count": 0,
      "outputs": [
        {
          "output_type": "execute_result",
          "data": {
            "text/plain": [
              "505"
            ]
          },
          "metadata": {
            "tags": []
          },
          "execution_count": 7
        }
      ]
    },
    {
      "cell_type": "code",
      "metadata": {
        "id": "H5y18BVYp9EH",
        "colab_type": "code",
        "colab": {}
      },
      "source": [
        "# Delete stocks with <764 days\n",
        "count = 0\n",
        "for stock in stocks:\n",
        "    cur_stock = pd.read_csv('finance_data/data/'+stock)\n",
        "    if (len(cur_stock['Date']) != 765):\n",
        "        count += 1\n",
        "        stocks.remove(stock)"
      ],
      "execution_count": 0,
      "outputs": []
    },
    {
      "cell_type": "code",
      "metadata": {
        "id": "X-0He6gwpVVi",
        "colab_type": "code",
        "outputId": "14aa60c5-df32-4985-ef12-7dd06ac01824",
        "colab": {
          "base_uri": "https://localhost:8080/",
          "height": 33
        }
      },
      "source": [
        "len(stocks)"
      ],
      "execution_count": 0,
      "outputs": [
        {
          "output_type": "execute_result",
          "data": {
            "text/plain": [
              "494"
            ]
          },
          "metadata": {
            "tags": []
          },
          "execution_count": 11
        }
      ]
    },
    {
      "cell_type": "code",
      "metadata": {
        "id": "1YZC0rqkWcYL",
        "colab_type": "code",
        "colab": {}
      },
      "source": [
        "# Get return dictionary (log normalized)\n",
        "return_dict_log = {}\n",
        "stock_name_list = []\n",
        "\n",
        "for stock in stocks:\n",
        "    stock_name = stock.split('.csv')[0]\n",
        "    stock_name_list.append(stock_name)\n",
        "    cur_stock = pd.read_csv('finance_data/data/'+stock)\n",
        "    pi = cur_stock['Close']\n",
        "\n",
        "    # Calculate qi, ri\n",
        "    qi = []\n",
        "    ri = []\n",
        "    for t in range(1, len(pi)):\n",
        "        qi_t = (pi[t]-pi[t-1])/pi[t-1]\n",
        "        ri_t = math.log(1+qi_t)\n",
        "        qi.append(qi_t)\n",
        "        ri.append(ri_t)\n",
        "\n",
        "    return_dict_log[str(stock_name)] = ri"
      ],
      "execution_count": 0,
      "outputs": []
    },
    {
      "cell_type": "code",
      "metadata": {
        "id": "81SCvFtTY2YT",
        "colab_type": "code",
        "colab": {}
      },
      "source": [
        "# Get correlation\n",
        "def get_correlation(stock_i, stock_j, return_dict):\n",
        "    return_i = np.array(return_dict[stock_i])\n",
        "    return_j = np.array(return_dict[stock_j])\n",
        "    \n",
        "    avg_1 = np.mean(np.multiply(return_i, return_j))\n",
        "    avg_2 = np.mean(return_i) * np.mean(return_j)\n",
        "    deno_1 = np.mean(return_i**2)-np.mean(return_i)**2\n",
        "    deno_2 = np.mean(return_j**2)-np.mean(return_j)**2\n",
        "    corr = (avg_1 - avg_2)/np.sqrt(deno_1 * deno_2)\n",
        "    \n",
        "    return corr"
      ],
      "execution_count": 0,
      "outputs": []
    },
    {
      "cell_type": "code",
      "metadata": {
        "id": "CbSRWdCtfkRD",
        "colab_type": "code",
        "colab": {}
      },
      "source": [
        "# Get correlation matrix\n",
        "corr_matrix = np.zeros((len(stock_name_list),len(stock_name_list)))\n",
        "for i in range(len(stock_name_list)):\n",
        "    for j in range(len(stock_name_list)):\n",
        "        stock_i = stock_name_list[i]\n",
        "        stock_j = stock_name_list[j]\n",
        "        corr = get_correlation(stock_i, stock_j, return_dict_log)\n",
        "        # print(corr)\n",
        "        corr_matrix[i][j] = corr"
      ],
      "execution_count": 0,
      "outputs": []
    },
    {
      "cell_type": "code",
      "metadata": {
        "id": "abt_oZ4SptF5",
        "colab_type": "code",
        "outputId": "792fd2be-f6ba-434e-f2b0-0143bd31723b",
        "colab": {
          "base_uri": "https://localhost:8080/",
          "height": 33
        }
      },
      "source": [
        "print(corr_matrix.shape)"
      ],
      "execution_count": 0,
      "outputs": [
        {
          "output_type": "stream",
          "text": [
            "(494, 494)\n"
          ],
          "name": "stdout"
        }
      ]
    },
    {
      "cell_type": "code",
      "metadata": {
        "id": "7z4VsKmcgTe2",
        "colab_type": "code",
        "outputId": "f7d1d3b5-7b88-4917-9756-5f53a45e8105",
        "colab": {
          "base_uri": "https://localhost:8080/",
          "height": 50
        }
      },
      "source": [
        "# Q1\n",
        "print(\"max: \",np.max(corr_matrix))\n",
        "print(\"min: \",np.min(corr_matrix))"
      ],
      "execution_count": 0,
      "outputs": [
        {
          "output_type": "stream",
          "text": [
            "max:  1.0\n",
            "min:  -0.1985733513184204\n"
          ],
          "name": "stdout"
        }
      ]
    },
    {
      "cell_type": "code",
      "metadata": {
        "id": "cYcUV8exqvWa",
        "colab_type": "code",
        "colab": {}
      },
      "source": [
        "# Q2\n",
        "# Compute edge weights\n",
        "weight_matrix = np.sqrt(2 * (1 - corr_matrix))\n",
        "weight_list = []\n",
        "\n",
        "weight_file = open(\"weight.txt\", \"w\")\n",
        "for i in range(len(stock_name_list)):\n",
        "    for j in range(i+1, len(stock_name_list)):\n",
        "        weight_file.write('{} {} {}\\n'.format(stock_name_list[i], stock_name_list[j], weight_matrix[i][j]))\n",
        "        weight_list.append(weight_matrix[i][j])\n",
        "\n",
        "weight_file.close()"
      ],
      "execution_count": 0,
      "outputs": []
    },
    {
      "cell_type": "code",
      "metadata": {
        "id": "UjatMDtYr3Dk",
        "colab_type": "code",
        "outputId": "3ce6e907-3f3e-47fc-964c-2c4dcba69683",
        "colab": {
          "base_uri": "https://localhost:8080/",
          "height": 662
        }
      },
      "source": [
        "plt.title('Histogram of un-normalized distribution of edge weights')\n",
        "plt.xlabel('Weights')\n",
        "plt.ylabel('Frequency')\n",
        "plt.hist(weight_list, bins=50, edgecolor = 'black')"
      ],
      "execution_count": 0,
      "outputs": [
        {
          "output_type": "execute_result",
          "data": {
            "text/plain": [
              "(array([2.0000e+00, 0.0000e+00, 1.0000e+00, 0.0000e+00, 1.0000e+00,\n",
              "        0.0000e+00, 0.0000e+00, 0.0000e+00, 0.0000e+00, 1.0000e+00,\n",
              "        2.0000e+00, 1.4000e+01, 2.5000e+01, 3.0000e+01, 4.3000e+01,\n",
              "        4.8000e+01, 7.3000e+01, 1.0700e+02, 1.1300e+02, 1.2800e+02,\n",
              "        1.6400e+02, 1.4600e+02, 2.0000e+02, 2.0700e+02, 2.8900e+02,\n",
              "        3.4200e+02, 4.5900e+02, 7.4500e+02, 1.1860e+03, 1.8560e+03,\n",
              "        2.6770e+03, 3.8280e+03, 5.3580e+03, 6.8360e+03, 8.1980e+03,\n",
              "        9.6200e+03, 1.0987e+04, 1.1832e+04, 1.1937e+04, 1.1461e+04,\n",
              "        1.0081e+04, 8.6840e+03, 6.7310e+03, 4.4880e+03, 2.0470e+03,\n",
              "        5.6100e+02, 1.9800e+02, 4.8000e+01, 1.0000e+01, 7.0000e+00]),\n",
              " array([0.15215947, 0.18008172, 0.20800397, 0.23592623, 0.26384848,\n",
              "        0.29177074, 0.31969299, 0.34761524, 0.3755375 , 0.40345975,\n",
              "        0.43138201, 0.45930426, 0.48722651, 0.51514877, 0.54307102,\n",
              "        0.57099328, 0.59891553, 0.62683778, 0.65476004, 0.68268229,\n",
              "        0.71060455, 0.7385268 , 0.76644905, 0.79437131, 0.82229356,\n",
              "        0.85021582, 0.87813807, 0.90606032, 0.93398258, 0.96190483,\n",
              "        0.98982709, 1.01774934, 1.04567159, 1.07359385, 1.1015161 ,\n",
              "        1.12943836, 1.15736061, 1.18528286, 1.21320512, 1.24112737,\n",
              "        1.26904963, 1.29697188, 1.32489413, 1.35281639, 1.38073864,\n",
              "        1.4086609 , 1.43658315, 1.4645054 , 1.49242766, 1.52034991,\n",
              "        1.54827217]),\n",
              " <a list of 50 Patch objects>)"
            ]
          },
          "metadata": {
            "tags": []
          },
          "execution_count": 34
        },
        {
          "output_type": "display_data",
          "data": {
            "image/png": "[encoded data removed]",
            "text/plain": [
              "<Figure size 432x288 with 1 Axes>"
            ]
          },
          "metadata": {
            "tags": [],
            "needs_background": "light"
          }
        }
      ]
    },
    {
      "cell_type": "code",
      "metadata": {
        "id": "MZ3wx5XFQyOV",
        "colab_type": "code",
        "outputId": "9276c343-1658-4782-adb6-dcdb25dfef29",
        "colab": {
          "base_uri": "https://localhost:8080/",
          "height": 153
        }
      },
      "source": [
        "!pip install python-igraph"
      ],
      "execution_count": 0,
      "outputs": [
        {
          "output_type": "stream",
          "text": [
            "Collecting python-igraph\n",
            "\u001b[?25l  Downloading https://files.pythonhosted.org/packages/8b/74/24a1afbf3abaf1d5f393b668192888d04091d1a6d106319661cd4af05406/python_igraph-0.8.2-cp36-cp36m-manylinux2010_x86_64.whl (3.2MB)\n",
            "\u001b[K     |████████████████████████████████| 3.2MB 9.6MB/s \n",
            "\u001b[?25hCollecting texttable>=1.6.2\n",
            "  Downloading https://files.pythonhosted.org/packages/ec/b1/8a1c659ce288bf771d5b1c7cae318ada466f73bd0e16df8d86f27a2a3ee7/texttable-1.6.2-py2.py3-none-any.whl\n",
            "Installing collected packages: texttable, python-igraph\n",
            "Successfully installed python-igraph-0.8.2 texttable-1.6.2\n"
          ],
          "name": "stdout"
        }
      ]
    },
    {
      "cell_type": "code",
      "metadata": {
        "id": "2C3rfrMFRCoG",
        "colab_type": "code",
        "colab": {}
      },
      "source": [
        "import igraph\n",
        "from igraph import *"
      ],
      "execution_count": 0,
      "outputs": []
    },
    {
      "cell_type": "code",
      "metadata": {
        "id": "AgXMAGa1RsG4",
        "colab_type": "code",
        "colab": {}
      },
      "source": [
        "# Construct the correlation graph\n",
        "stock_graph = Graph()\n",
        "stock_graph.add_vertices(stock_name_list)\n",
        "\n",
        "for i in range(len(stock_name_list)):\n",
        "    for j in range(i+1, len(stock_name_list)):\n",
        "         stock_i = stock_name_list[i]\n",
        "         stock_j = stock_name_list[j]\n",
        "         stock_graph.add_edge(stock_i, stock_j, weight = weight_matrix[i][j])"
      ],
      "execution_count": 0,
      "outputs": []
    },
    {
      "cell_type": "code",
      "metadata": {
        "id": "qMoWjOQYVHRV",
        "colab_type": "code",
        "outputId": "90087966-16cc-45ed-ad1d-5b6c03c27507",
        "colab": {
          "base_uri": "https://localhost:8080/",
          "height": 33
        }
      },
      "source": [
        "stock_graph.ecount()"
      ],
      "execution_count": 0,
      "outputs": [
        {
          "output_type": "execute_result",
          "data": {
            "text/plain": [
              "121771"
            ]
          },
          "metadata": {
            "tags": []
          },
          "execution_count": 65
        }
      ]
    },
    {
      "cell_type": "markdown",
      "metadata": {
        "id": "eXgXzZuT8IY_",
        "colab_type": "text"
      },
      "source": [
        "Weekly data"
      ]
    },
    {
      "cell_type": "code",
      "metadata": {
        "id": "MlEXNaKM8KUK",
        "colab_type": "code",
        "colab": {}
      },
      "source": [
        "# Get return dictionary (log normalized)\n",
        "return_dict_log_weekly = {}\n",
        "stock_name_list = []\n",
        "\n",
        "for stock in stocks:\n",
        "    stock_name = stock.split('.csv')[0]\n",
        "    stock_name_list.append(stock_name)\n",
        "    cur_stock = pd.read_csv('finance_data/data/'+stock)\n",
        "    cur_stock['Weekday'] = pd.to_datetime(cur_stock['Date']).apply(lambda x: x.weekday())\n",
        "    cur_stock = cur_stock[cur_stock['Weekday'] == 0]\n",
        "    pi = list(cur_stock['Close'])\n",
        "\n",
        "    # Calculate qi, ri\n",
        "    qi = []\n",
        "    ri = []\n",
        "    for t in range(1, len(pi)):\n",
        "        qi_t = (pi[t]-pi[t-1])/pi[t-1]\n",
        "        ri_t = math.log(1+qi_t)\n",
        "        qi.append(qi_t)\n",
        "        ri.append(ri_t)\n",
        "\n",
        "    return_dict_log_weekly[str(stock_name)] = ri"
      ],
      "execution_count": 0,
      "outputs": []
    },
    {
      "cell_type": "code",
      "metadata": {
        "id": "QMnnB_F3_qGN",
        "colab_type": "code",
        "colab": {}
      },
      "source": [
        "# Get correlation matrix\n",
        "corr_matrix_weekly = np.zeros((len(stock_name_list),len(stock_name_list)))\n",
        "for i in range(len(stock_name_list)):\n",
        "    for j in range(len(stock_name_list)):\n",
        "        stock_i = stock_name_list[i]\n",
        "        stock_j = stock_name_list[j]\n",
        "        corr = get_correlation(stock_i, stock_j, return_dict_log_weekly)\n",
        "        # print(corr)\n",
        "        corr_matrix_weekly[i][j] = corr"
      ],
      "execution_count": 0,
      "outputs": []
    },
    {
      "cell_type": "code",
      "metadata": {
        "id": "Gj2fmJyXAQcF",
        "colab_type": "code",
        "outputId": "f78dac5d-508f-46e9-f1fe-ff0f95f0e52a",
        "colab": {
          "base_uri": "https://localhost:8080/",
          "height": 33
        }
      },
      "source": [
        "print(corr_matrix_weekly.shape)"
      ],
      "execution_count": 0,
      "outputs": [
        {
          "output_type": "stream",
          "text": [
            "(494, 494)\n"
          ],
          "name": "stdout"
        }
      ]
    },
    {
      "cell_type": "code",
      "metadata": {
        "id": "kthsYiZAAvRS",
        "colab_type": "code",
        "colab": {}
      },
      "source": [
        "# Compute edge weights\n",
        "weight_matrix_weekly = np.sqrt(2 * (1 - corr_matrix_weekly))\n",
        "weight_list_weekly = []\n",
        "\n",
        "weight_file_weekly = open(\"weight_weekly.txt\", \"w\")\n",
        "for i in range(len(stock_name_list)):\n",
        "    for j in range(i+1, len(stock_name_list)):\n",
        "        weight_file_weekly.write('{} {} {}\\n'.format(stock_name_list[i], stock_name_list[j], weight_matrix_weekly[i][j]))\n",
        "        weight_list_weekly.append(weight_matrix_weekly[i][j])\n",
        "\n",
        "weight_file_weekly.close()"
      ],
      "execution_count": 0,
      "outputs": []
    }
  ]
}